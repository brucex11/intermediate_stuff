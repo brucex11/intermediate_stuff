{
 "cells": [
  {
   "attachments": {},
   "cell_type": "markdown",
   "metadata": {},
   "source": [
    "## Find the ipy interpreter\n",
    "See file https://nistgov-my.sharepoint.com/personal/bbandini_nist_gov/Documents/Covid/SourceCode/python/virtenv/Python%20virtual%20environments.docx?web=1\n",
    "\n",
    "For python v 3.8, see section Python Virtual Environments | Multiple venvs Under Same Project | Python v 3.8.\n",
    "\n",
    "Main idea is to start the jupyter server from the command line in VSCode TERMINAL."
   ]
  },
  {
   "attachments": {},
   "cell_type": "markdown",
   "metadata": {},
   "source": [
    "## PEP8 Python Enhancement Proposal\n",
    "### PEP 8 – Style Guide for Python Code\n",
    "https://peps.python.org/pep-0008/\n"
   ]
  },
  {
   "attachments": {},
   "cell_type": "markdown",
   "metadata": {},
   "source": [
    "## Variable Naming Conventions\n",
    "1. snake case:   `this_is_a_variable`\n",
    "2. camel case:   `thisIsAVariable`    note first letter lower-case\n",
    "3. Pascal case:  `ThisIsAVariable`    note first letter upper-case\n",
    "\n",
    "## Function Naming Conventions\n",
    "A function's *name* is also known as its *signature*.  `convertMatrixToArray()` is an example, as below:\n",
    "\n",
    "1. signature must be descriptive:  use `def convertMatrixToArray()` and NOT just `def convert()`\n",
    "2. single purpose: functions should do **ONLY ONE THING**, and that \"job\" is reflected in the function's signature\n",
    "3. can also use snake case: `def convert_matrix_to_array():`\n",
    "4. Maintain convention consistency: do **NOT** mix camel and snake cases in same file/project\n",
    "\n",
    "## Class Naming Convention\n",
    "Class name uses Pascal case, member functions use camel case.\n",
    "```\n",
    "class RectangleShape:\n",
    "    def __init__(self, width, height):\n",
    "        self.width = width\n",
    "        self.height = height\n",
    "    \n",
    "    def get_my_area():\n",
    "        return self.width * self.height\n",
    "\n",
    "```\n"
   ]
  },
  {
   "cell_type": "code",
   "execution_count": 33,
   "metadata": {},
   "outputs": [],
   "source": [
    "def pr(s):\n",
    "    \"\"\" short cut for print() \"\"\"\n",
    "    print(f\"{s}\")"
   ]
  },
  {
   "cell_type": "code",
   "execution_count": 4,
   "metadata": {},
   "outputs": [
    {
     "name": "stdout",
     "output_type": "stream",
     "text": [
      "Python version:\n",
      "3.8.10 (tags/v3.8.10:3d8993a, May  3 2021, 11:48:03) [MSC v.1928 64 bit (AMD64)]\n",
      "Version info:\n",
      "sys.version_info(major=3, minor=8, micro=10, releaselevel='final', serial=0)\n"
     ]
    }
   ],
   "source": [
    "import sys\n",
    "s = 'Python version:'\n",
    "pr(s)\n",
    "pr (sys.version)\n",
    "s = 'Version info:'\n",
    "pr(s)\n",
    "pr(sys.version_info)"
   ]
  },
  {
   "attachments": {},
   "cell_type": "markdown",
   "metadata": {},
   "source": [
    "# Define a class and Use It\n",
    "## String Concatenation"
   ]
  },
  {
   "cell_type": "code",
   "execution_count": 26,
   "metadata": {},
   "outputs": [
    {
     "name": "stdout",
     "output_type": "stream",
     "text": [
      "rectangle area: 88\n",
      "rectangle area: 88\n",
      "'rectangle area': 88\n",
      "rectangle area: 88\n"
     ]
    }
   ],
   "source": [
    "# Define a class and use it.\n",
    "class RectangleShape:\n",
    "    def __init__( self, width, height ):\n",
    "        self.width = width\n",
    "        self.height = height\n",
    "    \n",
    "    def get_my_area( self ):\n",
    "        return self.width * self.height\n",
    "\n",
    "rs = RectangleShape( 8, 11 )\n",
    "area = rs.get_my_area()\n",
    "s = ' '.join( ['rectangle area:', str(area)] )\n",
    "pr(s)\n",
    "s = f'rectangle area: {area}'\n",
    "pr(s)\n",
    "s = f\"'rectangle area': {area}\"\n",
    "pr(s)\n",
    "s = 'rectangle area: ' + str(area)   # can also use \"\", just be consistent\n",
    "pr(s)"
   ]
  },
  {
   "attachments": {},
   "cell_type": "markdown",
   "metadata": {},
   "source": [
    "# Python keywords\n",
    "## Iterate a <class 'list'>"
   ]
  },
  {
   "cell_type": "code",
   "execution_count": 31,
   "metadata": {},
   "outputs": [
    {
     "name": "stdout",
     "output_type": "stream",
     "text": [
      "<class 'list'>\n",
      "count_python_keywords: 35\n",
      "False None True and as assert async await break class continue def del elif else except finally for from global if import in is lambda nonlocal not or pass raise return try while with yield \n"
     ]
    }
   ],
   "source": [
    "import keyword\n",
    "s = f\"{type(keyword.kwlist)}\"\n",
    "pr(s)\n",
    "count_python_keywords = len(keyword.kwlist)\n",
    "s = f\"count_python_keywords: {count_python_keywords}\"\n",
    "pr(s)\n",
    "for val in keyword.kwlist:\n",
    "    print( val, end=\" \" )  # print all on same line\n",
    "pr('')"
   ]
  },
  {
   "attachments": {},
   "cell_type": "markdown",
   "metadata": {},
   "source": [
    "##"
   ]
  },
  {
   "cell_type": "code",
   "execution_count": null,
   "metadata": {},
   "outputs": [],
   "source": []
  }
 ],
 "metadata": {
  "kernelspec": {
   "display_name": "Python (3.8)",
   "language": "python",
   "name": "myenv"
  },
  "language_info": {
   "codemirror_mode": {
    "name": "ipython",
    "version": 3
   },
   "file_extension": ".py",
   "mimetype": "text/x-python",
   "name": "python",
   "nbconvert_exporter": "python",
   "pygments_lexer": "ipython3",
   "version": "3.8.10"
  },
  "orig_nbformat": 4
 },
 "nbformat": 4,
 "nbformat_minor": 2
}
